{
 "cells": [
  {
   "cell_type": "markdown",
   "metadata": {},
   "source": [
    "Importing necessary libraries."
   ]
  },
  {
   "cell_type": "code",
   "execution_count": 1,
   "metadata": {},
   "outputs": [
    {
     "name": "stdout",
     "output_type": "stream",
     "text": [
      "Extracting /tmp/data/train-images-idx3-ubyte.gz\n",
      "Extracting /tmp/data/train-labels-idx1-ubyte.gz\n",
      "Extracting /tmp/data/t10k-images-idx3-ubyte.gz\n",
      "Extracting /tmp/data/t10k-labels-idx1-ubyte.gz\n"
     ]
    }
   ],
   "source": [
    "from __future__ import print_function\n",
    "import tensorflow as tf\n",
    "from tensorflow.contrib import rnn\n",
    "from tensorflow.examples.tutorials.mnist import input_data\n",
    "\n",
    "mnist = input_data.read_data_sets(\"/tmp/data/\", one_hot=True)"
   ]
  },
  {
   "cell_type": "markdown",
   "metadata": {},
   "source": [
    "Defining Parameters"
   ]
  },
  {
   "cell_type": "code",
   "execution_count": 2,
   "metadata": {
    "collapsed": true
   },
   "outputs": [],
   "source": [
    "learning_rate = 0.001\n",
    "training_steps = 10000\n",
    "batch_size = 128\n",
    "display_step = 200\n",
    "ninput = 28 \n",
    "timesteps = 28 \n",
    "hidden = 128 \n",
    "classes = 10 \n",
    "\n",
    "X = tf.placeholder(\"float\", [None, timesteps, ninput])\n",
    "Y = tf.placeholder(\"float\", [None, classes])\n",
    "\n",
    "w = {'out': tf.Variable(tf.random_normal([hidden, classes]))}\n",
    "b = {'out': tf.Variable(tf.random_normal([classes]))}"
   ]
  },
  {
   "cell_type": "markdown",
   "metadata": {},
   "source": [
    "Defining the LSTM Cell"
   ]
  },
  {
   "cell_type": "code",
   "execution_count": 3,
   "metadata": {
    "collapsed": true
   },
   "outputs": [],
   "source": [
    "def RNN(x, w, b):\n",
    "    x = tf.unstack(x, timesteps, 1)\n",
    "    lstm_cell = rnn.BasicLSTMCell(hidden, forget_bias=1.0)\n",
    "    outputs, states = rnn.static_rnn(lstm_cell, x, dtype=tf.float32)\n",
    "    return tf.matmul(outputs[-1], w['out']) + b['out']"
   ]
  },
  {
   "cell_type": "markdown",
   "metadata": {},
   "source": [
    "Graph Model Creation using Adam Optimizer"
   ]
  },
  {
   "cell_type": "code",
   "execution_count": 4,
   "metadata": {
    "collapsed": true
   },
   "outputs": [],
   "source": [
    "lg = RNN(X, w, b)\n",
    "pred = tf.nn.softmax(lg)\n",
    "loss_op = tf.reduce_mean(tf.nn.softmax_cross_entropy_with_logits(logits=lg, labels=Y))\n",
    "optimizer = tf.train.AdamOptimizer(learning_rate=learning_rate,beta1=0.9,beta2=0.999,epsilon=1e-08,use_locking=False,name='Adam')\n",
    "train_op = optimizer.minimize(loss_op)\n",
    "correct_pred = tf.equal(tf.argmax(pred, 1), tf.argmax(Y, 1))\n",
    "accuracy = tf.reduce_mean(tf.cast(correct_pred, tf.float32))"
   ]
  },
  {
   "cell_type": "markdown",
   "metadata": {},
   "source": [
    "Initializing the variables"
   ]
  },
  {
   "cell_type": "code",
   "execution_count": 5,
   "metadata": {
    "collapsed": true
   },
   "outputs": [],
   "source": [
    "init = tf.global_variables_initializer()"
   ]
  },
  {
   "cell_type": "markdown",
   "metadata": {},
   "source": [
    "Running the training and prediction"
   ]
  },
  {
   "cell_type": "code",
   "execution_count": 6,
   "metadata": {},
   "outputs": [
    {
     "name": "stdout",
     "output_type": "stream",
     "text": [
      "Step 1, Minibatch Loss= 2.4018, Training Accuracy= 0.094\n",
      "Step 200, Minibatch Loss= 0.3202, Training Accuracy= 0.914\n",
      "Step 400, Minibatch Loss= 0.1770, Training Accuracy= 0.961\n",
      "Step 600, Minibatch Loss= 0.1061, Training Accuracy= 0.969\n",
      "Step 800, Minibatch Loss= 0.0440, Training Accuracy= 0.992\n",
      "Step 1000, Minibatch Loss= 0.0330, Training Accuracy= 0.992\n",
      "Step 1200, Minibatch Loss= 0.0705, Training Accuracy= 0.977\n",
      "Step 1400, Minibatch Loss= 0.0862, Training Accuracy= 0.977\n",
      "Step 1600, Minibatch Loss= 0.0430, Training Accuracy= 0.984\n",
      "Step 1800, Minibatch Loss= 0.0144, Training Accuracy= 1.000\n",
      "Step 2000, Minibatch Loss= 0.0192, Training Accuracy= 0.992\n",
      "Step 2200, Minibatch Loss= 0.0299, Training Accuracy= 0.984\n",
      "Step 2400, Minibatch Loss= 0.0135, Training Accuracy= 1.000\n",
      "Step 2600, Minibatch Loss= 0.1517, Training Accuracy= 0.961\n",
      "Step 2800, Minibatch Loss= 0.0108, Training Accuracy= 1.000\n",
      "Step 3000, Minibatch Loss= 0.0487, Training Accuracy= 0.977\n",
      "Step 3200, Minibatch Loss= 0.0321, Training Accuracy= 0.992\n",
      "Step 3400, Minibatch Loss= 0.0124, Training Accuracy= 0.992\n",
      "Step 3600, Minibatch Loss= 0.0054, Training Accuracy= 1.000\n",
      "Step 3800, Minibatch Loss= 0.0469, Training Accuracy= 0.984\n",
      "Step 4000, Minibatch Loss= 0.0075, Training Accuracy= 1.000\n",
      "Step 4200, Minibatch Loss= 0.0364, Training Accuracy= 0.984\n",
      "Step 4400, Minibatch Loss= 0.0045, Training Accuracy= 1.000\n",
      "Step 4600, Minibatch Loss= 0.0020, Training Accuracy= 1.000\n",
      "Step 4800, Minibatch Loss= 0.0102, Training Accuracy= 0.992\n",
      "Step 5000, Minibatch Loss= 0.0033, Training Accuracy= 1.000\n",
      "Step 5200, Minibatch Loss= 0.0140, Training Accuracy= 0.992\n",
      "Step 5400, Minibatch Loss= 0.0173, Training Accuracy= 0.992\n",
      "Step 5600, Minibatch Loss= 0.0031, Training Accuracy= 1.000\n",
      "Step 5800, Minibatch Loss= 0.0522, Training Accuracy= 0.977\n",
      "Step 6000, Minibatch Loss= 0.0021, Training Accuracy= 1.000\n",
      "Step 6200, Minibatch Loss= 0.0014, Training Accuracy= 1.000\n",
      "Step 6400, Minibatch Loss= 0.0155, Training Accuracy= 0.992\n",
      "Step 6600, Minibatch Loss= 0.0110, Training Accuracy= 0.992\n",
      "Step 6800, Minibatch Loss= 0.0109, Training Accuracy= 0.992\n",
      "Step 7000, Minibatch Loss= 0.0024, Training Accuracy= 1.000\n",
      "Step 7200, Minibatch Loss= 0.0221, Training Accuracy= 0.992\n",
      "Step 7400, Minibatch Loss= 0.0101, Training Accuracy= 0.992\n",
      "Step 7600, Minibatch Loss= 0.0218, Training Accuracy= 0.984\n",
      "Step 7800, Minibatch Loss= 0.0080, Training Accuracy= 1.000\n",
      "Step 8000, Minibatch Loss= 0.0048, Training Accuracy= 1.000\n",
      "Step 8200, Minibatch Loss= 0.0271, Training Accuracy= 0.992\n",
      "Step 8400, Minibatch Loss= 0.0027, Training Accuracy= 1.000\n",
      "Step 8600, Minibatch Loss= 0.0106, Training Accuracy= 0.992\n",
      "Step 8800, Minibatch Loss= 0.0114, Training Accuracy= 0.992\n",
      "Step 9000, Minibatch Loss= 0.0007, Training Accuracy= 1.000\n",
      "Step 9200, Minibatch Loss= 0.0006, Training Accuracy= 1.000\n",
      "Step 9400, Minibatch Loss= 0.0036, Training Accuracy= 1.000\n",
      "Step 9600, Minibatch Loss= 0.0036, Training Accuracy= 1.000\n",
      "Step 9800, Minibatch Loss= 0.0254, Training Accuracy= 0.992\n",
      "Step 10000, Minibatch Loss= 0.0006, Training Accuracy= 1.000\n",
      "Completed\n",
      "Testing Accuracy: 0.992188\n"
     ]
    }
   ],
   "source": [
    "with tf.Session() as sess:\n",
    "\n",
    "    sess.run(init)\n",
    "    for step in range(1, training_steps+1):\n",
    "        batch_x, batch_y = mnist.train.next_batch(batch_size)\n",
    "        batch_x = batch_x.reshape((batch_size, timesteps, ninput))\n",
    "        sess.run(train_op, feed_dict={X: batch_x, Y: batch_y})\n",
    "        if step % display_step == 0 or step == 1:\n",
    "    \n",
    "            loss, acc = sess.run([loss_op, accuracy], feed_dict={X: batch_x,Y: batch_y})\n",
    "            print(\"Step \" + str(step) + \", Minibatch Loss= \" + \"{:.4f}\".format(loss) + \", Training Accuracy= \" + \"{:.3f}\".format(acc))\n",
    "\n",
    "    print(\"Completed\")\n",
    "\n",
    "    test_len = 128\n",
    "    test_data = mnist.test.images[:test_len].reshape((-1, timesteps, ninput))\n",
    "    test_label = mnist.test.labels[:test_len]\n",
    "    print(\"Testing Accuracy:\", sess.run(accuracy, feed_dict={X: test_data, Y: test_label}))"
   ]
  },
  {
   "cell_type": "markdown",
   "metadata": {},
   "source": [
    "Final Output : Training Accuracy - 1.00, Test Accuracy - 0.992"
   ]
  }
 ],
 "metadata": {
  "kernelspec": {
   "display_name": "Python 3",
   "language": "python",
   "name": "python3"
  },
  "language_info": {
   "codemirror_mode": {
    "name": "ipython",
    "version": 3
   },
   "file_extension": ".py",
   "mimetype": "text/x-python",
   "name": "python",
   "nbconvert_exporter": "python",
   "pygments_lexer": "ipython3",
   "version": "3.5.4"
  }
 },
 "nbformat": 4,
 "nbformat_minor": 2
}
